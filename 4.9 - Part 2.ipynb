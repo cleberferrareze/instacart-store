{
 "cells": [
  {
   "cell_type": "markdown",
   "id": "06962210",
   "metadata": {},
   "source": [
    "# SCRIPT OUTLINE - part 2"
   ]
  },
  {
   "cell_type": "markdown",
   "id": "ed8fcd8f",
   "metadata": {},
   "source": [
    "### 1. Create a new notebook, import necessary libraries and the most up-to-date project data (customer data)"
   ]
  },
  {
   "cell_type": "markdown",
   "id": "57b1bb39",
   "metadata": {},
   "source": [
    "#### Create a new notebook, import the necessary analysis and visualization libraries, then import your most up-to-date project data (i.e., the data set with your new customer data from the first part of this task).\n"
   ]
  },
  {
   "cell_type": "code",
   "execution_count": 1,
   "id": "bf197946",
   "metadata": {},
   "outputs": [],
   "source": [
    "# Importing analysis libraries\n",
    "\n",
    "import pandas as pd\n",
    "import numpy as np\n",
    "import os\n",
    "import matplotlib.pyplot as plt\n",
    "import seaborn as sns\n",
    "import scipy"
   ]
  },
  {
   "cell_type": "code",
   "execution_count": null,
   "id": "34f96a3d",
   "metadata": {},
   "outputs": [],
   "source": [
    "# Defining a short project folder for importing datasets"
   ]
  },
  {
   "cell_type": "code",
   "execution_count": 2,
   "id": "73b2c6f2",
   "metadata": {},
   "outputs": [],
   "source": [
    "path = r'/Users/cleberjulianoferrareze/Documents/CareerFoundry/Achievement 4/Task 4.9/2021-10 - 4.9 Instacart Grocery Basket'"
   ]
  },
  {
   "cell_type": "code",
   "execution_count": 3,
   "id": "d722ec91",
   "metadata": {},
   "outputs": [
    {
     "data": {
      "text/plain": [
       "'/Users/cleberjulianoferrareze/Documents/CareerFoundry/Achievement 4/Task 4.9/2021-10 - 4.9 Instacart Grocery Basket'"
      ]
     },
     "execution_count": 3,
     "metadata": {},
     "output_type": "execute_result"
    }
   ],
   "source": [
    "path"
   ]
  },
  {
   "cell_type": "code",
   "execution_count": null,
   "id": "5fd73bb0",
   "metadata": {},
   "outputs": [],
   "source": [
    "# Importing the most up-to-date project data (customer, orders, products data)"
   ]
  },
  {
   "cell_type": "code",
   "execution_count": 4,
   "id": "90a3da15",
   "metadata": {},
   "outputs": [],
   "source": [
    "df_ords_prods_cust = pd.read_pickle(os.path.join(path, '02 Data', 'Prepared Data', 'ords_prods_cust_merged_4.9_P1.pkl'))"
   ]
  },
  {
   "cell_type": "code",
   "execution_count": 5,
   "id": "f6202609",
   "metadata": {},
   "outputs": [
    {
     "data": {
      "text/plain": [
       "(30356128, 32)"
      ]
     },
     "execution_count": 5,
     "metadata": {},
     "output_type": "execute_result"
    }
   ],
   "source": [
    "df_ords_prods_cust.shape"
   ]
  },
  {
   "cell_type": "code",
   "execution_count": 6,
   "id": "04951900",
   "metadata": {},
   "outputs": [
    {
     "data": {
      "text/html": [
       "<div>\n",
       "<style scoped>\n",
       "    .dataframe tbody tr th:only-of-type {\n",
       "        vertical-align: middle;\n",
       "    }\n",
       "\n",
       "    .dataframe tbody tr th {\n",
       "        vertical-align: top;\n",
       "    }\n",
       "\n",
       "    .dataframe thead th {\n",
       "        text-align: right;\n",
       "    }\n",
       "</style>\n",
       "<table border=\"1\" class=\"dataframe\">\n",
       "  <thead>\n",
       "    <tr style=\"text-align: right;\">\n",
       "      <th></th>\n",
       "      <th>product_id</th>\n",
       "      <th>product_name</th>\n",
       "      <th>aisle_id</th>\n",
       "      <th>department_id</th>\n",
       "      <th>prices</th>\n",
       "      <th>order_id</th>\n",
       "      <th>user_id</th>\n",
       "      <th>order_number</th>\n",
       "      <th>order_dow</th>\n",
       "      <th>order_hour_of_day</th>\n",
       "      <th>...</th>\n",
       "      <th>frequency_flag</th>\n",
       "      <th>first_name</th>\n",
       "      <th>surname</th>\n",
       "      <th>gender</th>\n",
       "      <th>state</th>\n",
       "      <th>age</th>\n",
       "      <th>date_joined</th>\n",
       "      <th>n_dependants</th>\n",
       "      <th>family_status</th>\n",
       "      <th>income</th>\n",
       "    </tr>\n",
       "  </thead>\n",
       "  <tbody>\n",
       "    <tr>\n",
       "      <th>0</th>\n",
       "      <td>1</td>\n",
       "      <td>Chocolate Sandwich Cookies</td>\n",
       "      <td>61</td>\n",
       "      <td>19</td>\n",
       "      <td>5.8</td>\n",
       "      <td>3139998</td>\n",
       "      <td>138</td>\n",
       "      <td>28</td>\n",
       "      <td>6</td>\n",
       "      <td>11</td>\n",
       "      <td>...</td>\n",
       "      <td>Frequent customer</td>\n",
       "      <td>Charles</td>\n",
       "      <td>Cox</td>\n",
       "      <td>Male</td>\n",
       "      <td>Minnesota</td>\n",
       "      <td>81</td>\n",
       "      <td>8/1/2019</td>\n",
       "      <td>1</td>\n",
       "      <td>married</td>\n",
       "      <td>49620</td>\n",
       "    </tr>\n",
       "    <tr>\n",
       "      <th>1</th>\n",
       "      <td>1</td>\n",
       "      <td>Chocolate Sandwich Cookies</td>\n",
       "      <td>61</td>\n",
       "      <td>19</td>\n",
       "      <td>5.8</td>\n",
       "      <td>1977647</td>\n",
       "      <td>138</td>\n",
       "      <td>30</td>\n",
       "      <td>6</td>\n",
       "      <td>17</td>\n",
       "      <td>...</td>\n",
       "      <td>Frequent customer</td>\n",
       "      <td>Charles</td>\n",
       "      <td>Cox</td>\n",
       "      <td>Male</td>\n",
       "      <td>Minnesota</td>\n",
       "      <td>81</td>\n",
       "      <td>8/1/2019</td>\n",
       "      <td>1</td>\n",
       "      <td>married</td>\n",
       "      <td>49620</td>\n",
       "    </tr>\n",
       "    <tr>\n",
       "      <th>2</th>\n",
       "      <td>907</td>\n",
       "      <td>Premium Sliced Bacon</td>\n",
       "      <td>106</td>\n",
       "      <td>12</td>\n",
       "      <td>20.0</td>\n",
       "      <td>2254091</td>\n",
       "      <td>138</td>\n",
       "      <td>10</td>\n",
       "      <td>5</td>\n",
       "      <td>14</td>\n",
       "      <td>...</td>\n",
       "      <td>Frequent customer</td>\n",
       "      <td>Charles</td>\n",
       "      <td>Cox</td>\n",
       "      <td>Male</td>\n",
       "      <td>Minnesota</td>\n",
       "      <td>81</td>\n",
       "      <td>8/1/2019</td>\n",
       "      <td>1</td>\n",
       "      <td>married</td>\n",
       "      <td>49620</td>\n",
       "    </tr>\n",
       "    <tr>\n",
       "      <th>3</th>\n",
       "      <td>1000</td>\n",
       "      <td>Apricots</td>\n",
       "      <td>18</td>\n",
       "      <td>10</td>\n",
       "      <td>12.9</td>\n",
       "      <td>505689</td>\n",
       "      <td>138</td>\n",
       "      <td>9</td>\n",
       "      <td>6</td>\n",
       "      <td>12</td>\n",
       "      <td>...</td>\n",
       "      <td>Frequent customer</td>\n",
       "      <td>Charles</td>\n",
       "      <td>Cox</td>\n",
       "      <td>Male</td>\n",
       "      <td>Minnesota</td>\n",
       "      <td>81</td>\n",
       "      <td>8/1/2019</td>\n",
       "      <td>1</td>\n",
       "      <td>married</td>\n",
       "      <td>49620</td>\n",
       "    </tr>\n",
       "    <tr>\n",
       "      <th>4</th>\n",
       "      <td>3265</td>\n",
       "      <td>Mini Seedless Watermelon Pack</td>\n",
       "      <td>32</td>\n",
       "      <td>4</td>\n",
       "      <td>1.7</td>\n",
       "      <td>960220</td>\n",
       "      <td>138</td>\n",
       "      <td>17</td>\n",
       "      <td>5</td>\n",
       "      <td>14</td>\n",
       "      <td>...</td>\n",
       "      <td>Frequent customer</td>\n",
       "      <td>Charles</td>\n",
       "      <td>Cox</td>\n",
       "      <td>Male</td>\n",
       "      <td>Minnesota</td>\n",
       "      <td>81</td>\n",
       "      <td>8/1/2019</td>\n",
       "      <td>1</td>\n",
       "      <td>married</td>\n",
       "      <td>49620</td>\n",
       "    </tr>\n",
       "    <tr>\n",
       "      <th>...</th>\n",
       "      <td>...</td>\n",
       "      <td>...</td>\n",
       "      <td>...</td>\n",
       "      <td>...</td>\n",
       "      <td>...</td>\n",
       "      <td>...</td>\n",
       "      <td>...</td>\n",
       "      <td>...</td>\n",
       "      <td>...</td>\n",
       "      <td>...</td>\n",
       "      <td>...</td>\n",
       "      <td>...</td>\n",
       "      <td>...</td>\n",
       "      <td>...</td>\n",
       "      <td>...</td>\n",
       "      <td>...</td>\n",
       "      <td>...</td>\n",
       "      <td>...</td>\n",
       "      <td>...</td>\n",
       "      <td>...</td>\n",
       "      <td>...</td>\n",
       "    </tr>\n",
       "    <tr>\n",
       "      <th>95</th>\n",
       "      <td>31805</td>\n",
       "      <td>Gourmet Tomato Medley</td>\n",
       "      <td>32</td>\n",
       "      <td>4</td>\n",
       "      <td>5.2</td>\n",
       "      <td>2526903</td>\n",
       "      <td>138</td>\n",
       "      <td>14</td>\n",
       "      <td>0</td>\n",
       "      <td>15</td>\n",
       "      <td>...</td>\n",
       "      <td>Frequent customer</td>\n",
       "      <td>Charles</td>\n",
       "      <td>Cox</td>\n",
       "      <td>Male</td>\n",
       "      <td>Minnesota</td>\n",
       "      <td>81</td>\n",
       "      <td>8/1/2019</td>\n",
       "      <td>1</td>\n",
       "      <td>married</td>\n",
       "      <td>49620</td>\n",
       "    </tr>\n",
       "    <tr>\n",
       "      <th>96</th>\n",
       "      <td>31860</td>\n",
       "      <td>Foil Sheets</td>\n",
       "      <td>85</td>\n",
       "      <td>17</td>\n",
       "      <td>11.7</td>\n",
       "      <td>1593782</td>\n",
       "      <td>138</td>\n",
       "      <td>15</td>\n",
       "      <td>6</td>\n",
       "      <td>11</td>\n",
       "      <td>...</td>\n",
       "      <td>Frequent customer</td>\n",
       "      <td>Charles</td>\n",
       "      <td>Cox</td>\n",
       "      <td>Male</td>\n",
       "      <td>Minnesota</td>\n",
       "      <td>81</td>\n",
       "      <td>8/1/2019</td>\n",
       "      <td>1</td>\n",
       "      <td>married</td>\n",
       "      <td>49620</td>\n",
       "    </tr>\n",
       "    <tr>\n",
       "      <th>97</th>\n",
       "      <td>32478</td>\n",
       "      <td>Reduced Fat 2% Milk</td>\n",
       "      <td>84</td>\n",
       "      <td>16</td>\n",
       "      <td>13.9</td>\n",
       "      <td>2206168</td>\n",
       "      <td>138</td>\n",
       "      <td>27</td>\n",
       "      <td>3</td>\n",
       "      <td>18</td>\n",
       "      <td>...</td>\n",
       "      <td>Frequent customer</td>\n",
       "      <td>Charles</td>\n",
       "      <td>Cox</td>\n",
       "      <td>Male</td>\n",
       "      <td>Minnesota</td>\n",
       "      <td>81</td>\n",
       "      <td>8/1/2019</td>\n",
       "      <td>1</td>\n",
       "      <td>married</td>\n",
       "      <td>49620</td>\n",
       "    </tr>\n",
       "    <tr>\n",
       "      <th>98</th>\n",
       "      <td>32689</td>\n",
       "      <td>Romaine Hearts</td>\n",
       "      <td>123</td>\n",
       "      <td>4</td>\n",
       "      <td>2.9</td>\n",
       "      <td>960220</td>\n",
       "      <td>138</td>\n",
       "      <td>17</td>\n",
       "      <td>5</td>\n",
       "      <td>14</td>\n",
       "      <td>...</td>\n",
       "      <td>Frequent customer</td>\n",
       "      <td>Charles</td>\n",
       "      <td>Cox</td>\n",
       "      <td>Male</td>\n",
       "      <td>Minnesota</td>\n",
       "      <td>81</td>\n",
       "      <td>8/1/2019</td>\n",
       "      <td>1</td>\n",
       "      <td>married</td>\n",
       "      <td>49620</td>\n",
       "    </tr>\n",
       "    <tr>\n",
       "      <th>99</th>\n",
       "      <td>33147</td>\n",
       "      <td>Organic Crimini Mushrooms</td>\n",
       "      <td>83</td>\n",
       "      <td>4</td>\n",
       "      <td>9.8</td>\n",
       "      <td>1986630</td>\n",
       "      <td>138</td>\n",
       "      <td>7</td>\n",
       "      <td>0</td>\n",
       "      <td>12</td>\n",
       "      <td>...</td>\n",
       "      <td>Frequent customer</td>\n",
       "      <td>Charles</td>\n",
       "      <td>Cox</td>\n",
       "      <td>Male</td>\n",
       "      <td>Minnesota</td>\n",
       "      <td>81</td>\n",
       "      <td>8/1/2019</td>\n",
       "      <td>1</td>\n",
       "      <td>married</td>\n",
       "      <td>49620</td>\n",
       "    </tr>\n",
       "  </tbody>\n",
       "</table>\n",
       "<p>100 rows × 32 columns</p>\n",
       "</div>"
      ],
      "text/plain": [
       "    product_id                   product_name  aisle_id  department_id  \\\n",
       "0            1     Chocolate Sandwich Cookies        61             19   \n",
       "1            1     Chocolate Sandwich Cookies        61             19   \n",
       "2          907           Premium Sliced Bacon       106             12   \n",
       "3         1000                       Apricots        18             10   \n",
       "4         3265  Mini Seedless Watermelon Pack        32              4   \n",
       "..         ...                            ...       ...            ...   \n",
       "95       31805          Gourmet Tomato Medley        32              4   \n",
       "96       31860                    Foil Sheets        85             17   \n",
       "97       32478            Reduced Fat 2% Milk        84             16   \n",
       "98       32689                 Romaine Hearts       123              4   \n",
       "99       33147      Organic Crimini Mushrooms        83              4   \n",
       "\n",
       "    prices  order_id  user_id  order_number  order_dow  order_hour_of_day  \\\n",
       "0      5.8   3139998      138            28          6                 11   \n",
       "1      5.8   1977647      138            30          6                 17   \n",
       "2     20.0   2254091      138            10          5                 14   \n",
       "3     12.9    505689      138             9          6                 12   \n",
       "4      1.7    960220      138            17          5                 14   \n",
       "..     ...       ...      ...           ...        ...                ...   \n",
       "95     5.2   2526903      138            14          0                 15   \n",
       "96    11.7   1593782      138            15          6                 11   \n",
       "97    13.9   2206168      138            27          3                 18   \n",
       "98     2.9    960220      138            17          5                 14   \n",
       "99     9.8   1986630      138             7          0                 12   \n",
       "\n",
       "    ...     frequency_flag  first_name  surname gender      state age  \\\n",
       "0   ...  Frequent customer     Charles      Cox   Male  Minnesota  81   \n",
       "1   ...  Frequent customer     Charles      Cox   Male  Minnesota  81   \n",
       "2   ...  Frequent customer     Charles      Cox   Male  Minnesota  81   \n",
       "3   ...  Frequent customer     Charles      Cox   Male  Minnesota  81   \n",
       "4   ...  Frequent customer     Charles      Cox   Male  Minnesota  81   \n",
       "..  ...                ...         ...      ...    ...        ...  ..   \n",
       "95  ...  Frequent customer     Charles      Cox   Male  Minnesota  81   \n",
       "96  ...  Frequent customer     Charles      Cox   Male  Minnesota  81   \n",
       "97  ...  Frequent customer     Charles      Cox   Male  Minnesota  81   \n",
       "98  ...  Frequent customer     Charles      Cox   Male  Minnesota  81   \n",
       "99  ...  Frequent customer     Charles      Cox   Male  Minnesota  81   \n",
       "\n",
       "   date_joined  n_dependants family_status  income  \n",
       "0     8/1/2019             1       married   49620  \n",
       "1     8/1/2019             1       married   49620  \n",
       "2     8/1/2019             1       married   49620  \n",
       "3     8/1/2019             1       married   49620  \n",
       "4     8/1/2019             1       married   49620  \n",
       "..         ...           ...           ...     ...  \n",
       "95    8/1/2019             1       married   49620  \n",
       "96    8/1/2019             1       married   49620  \n",
       "97    8/1/2019             1       married   49620  \n",
       "98    8/1/2019             1       married   49620  \n",
       "99    8/1/2019             1       married   49620  \n",
       "\n",
       "[100 rows x 32 columns]"
      ]
     },
     "execution_count": 6,
     "metadata": {},
     "output_type": "execute_result"
    }
   ],
   "source": [
    "df_ords_prods_cust.head(100)"
   ]
  },
  {
   "cell_type": "code",
   "execution_count": 7,
   "id": "843dfae4",
   "metadata": {},
   "outputs": [
    {
     "data": {
      "text/plain": [
       "Index(['product_id', 'product_name', 'aisle_id', 'department_id', 'prices',\n",
       "       'order_id', 'user_id', 'order_number', 'order_dow', 'order_hour_of_day',\n",
       "       'days_since_prior_order', 'add_to_cart_order', 'reordered', '_merge',\n",
       "       'price_range_loc', 'busiest_days', 'busiest_period_of_day', 'max_order',\n",
       "       'loyalty_flag', 'spenders', 'spenders_flag', 'customer_frequency',\n",
       "       'frequency_flag', 'first_name', 'surname', 'gender', 'state', 'age',\n",
       "       'date_joined', 'n_dependants', 'family_status', 'income'],\n",
       "      dtype='object')"
      ]
     },
     "execution_count": 7,
     "metadata": {},
     "output_type": "execute_result"
    }
   ],
   "source": [
    "df_ords_prods_cust.columns"
   ]
  },
  {
   "cell_type": "code",
   "execution_count": 8,
   "id": "8d590234",
   "metadata": {},
   "outputs": [
    {
     "data": {
      "text/plain": [
       "<AxesSubplot:xlabel='prices', ylabel='prices'>"
      ]
     },
     "execution_count": 8,
     "metadata": {},
     "output_type": "execute_result"
    },
    {
     "data": {
      "image/png": "[encoded data removed]",
      "text/plain": [
       "<Figure size 432x288 with 1 Axes>"
      ]
     },
     "metadata": {
      "needs_background": "light"
     },
     "output_type": "display_data"
    }
   ],
   "source": [
    "sns.scatterplot(x = 'prices', y = 'prices',data = df_ords_prods_cust)\n"
   ]
  },
  {
   "cell_type": "code",
   "execution_count": 9,
   "id": "dd88d007",
   "metadata": {},
   "outputs": [
    {
     "data": {
      "text/html": [
       "<div>\n",
       "<style scoped>\n",
       "    .dataframe tbody tr th:only-of-type {\n",
       "        vertical-align: middle;\n",
       "    }\n",
       "\n",
       "    .dataframe tbody tr th {\n",
       "        vertical-align: top;\n",
       "    }\n",
       "\n",
       "    .dataframe thead th {\n",
       "        text-align: right;\n",
       "    }\n",
       "</style>\n",
       "<table border=\"1\" class=\"dataframe\">\n",
       "  <thead>\n",
       "    <tr style=\"text-align: right;\">\n",
       "      <th></th>\n",
       "      <th>product_id</th>\n",
       "      <th>product_name</th>\n",
       "      <th>aisle_id</th>\n",
       "      <th>department_id</th>\n",
       "      <th>prices</th>\n",
       "      <th>order_id</th>\n",
       "      <th>user_id</th>\n",
       "      <th>order_number</th>\n",
       "      <th>order_dow</th>\n",
       "      <th>order_hour_of_day</th>\n",
       "      <th>...</th>\n",
       "      <th>frequency_flag</th>\n",
       "      <th>first_name</th>\n",
       "      <th>surname</th>\n",
       "      <th>gender</th>\n",
       "      <th>state</th>\n",
       "      <th>age</th>\n",
       "      <th>date_joined</th>\n",
       "      <th>n_dependants</th>\n",
       "      <th>family_status</th>\n",
       "      <th>income</th>\n",
       "    </tr>\n",
       "  </thead>\n",
       "  <tbody>\n",
       "    <tr>\n",
       "      <th>21681</th>\n",
       "      <td>33664</td>\n",
       "      <td>2 % Reduced Fat  Milk</td>\n",
       "      <td>84</td>\n",
       "      <td>16</td>\n",
       "      <td>99999.0</td>\n",
       "      <td>1489110</td>\n",
       "      <td>43360</td>\n",
       "      <td>3</td>\n",
       "      <td>1</td>\n",
       "      <td>10</td>\n",
       "      <td>...</td>\n",
       "      <td>Frequent customer</td>\n",
       "      <td>Marilyn</td>\n",
       "      <td>Baker</td>\n",
       "      <td>Female</td>\n",
       "      <td>Florida</td>\n",
       "      <td>67</td>\n",
       "      <td>7/16/2017</td>\n",
       "      <td>3</td>\n",
       "      <td>married</td>\n",
       "      <td>149199</td>\n",
       "    </tr>\n",
       "    <tr>\n",
       "      <th>21682</th>\n",
       "      <td>33664</td>\n",
       "      <td>2 % Reduced Fat  Milk</td>\n",
       "      <td>84</td>\n",
       "      <td>16</td>\n",
       "      <td>99999.0</td>\n",
       "      <td>2322035</td>\n",
       "      <td>43360</td>\n",
       "      <td>4</td>\n",
       "      <td>1</td>\n",
       "      <td>10</td>\n",
       "      <td>...</td>\n",
       "      <td>Frequent customer</td>\n",
       "      <td>Marilyn</td>\n",
       "      <td>Baker</td>\n",
       "      <td>Female</td>\n",
       "      <td>Florida</td>\n",
       "      <td>67</td>\n",
       "      <td>7/16/2017</td>\n",
       "      <td>3</td>\n",
       "      <td>married</td>\n",
       "      <td>149199</td>\n",
       "    </tr>\n",
       "    <tr>\n",
       "      <th>21683</th>\n",
       "      <td>33664</td>\n",
       "      <td>2 % Reduced Fat  Milk</td>\n",
       "      <td>84</td>\n",
       "      <td>16</td>\n",
       "      <td>99999.0</td>\n",
       "      <td>420339</td>\n",
       "      <td>43360</td>\n",
       "      <td>5</td>\n",
       "      <td>1</td>\n",
       "      <td>10</td>\n",
       "      <td>...</td>\n",
       "      <td>Frequent customer</td>\n",
       "      <td>Marilyn</td>\n",
       "      <td>Baker</td>\n",
       "      <td>Female</td>\n",
       "      <td>Florida</td>\n",
       "      <td>67</td>\n",
       "      <td>7/16/2017</td>\n",
       "      <td>3</td>\n",
       "      <td>married</td>\n",
       "      <td>149199</td>\n",
       "    </tr>\n",
       "    <tr>\n",
       "      <th>21684</th>\n",
       "      <td>33664</td>\n",
       "      <td>2 % Reduced Fat  Milk</td>\n",
       "      <td>84</td>\n",
       "      <td>16</td>\n",
       "      <td>99999.0</td>\n",
       "      <td>2912515</td>\n",
       "      <td>43360</td>\n",
       "      <td>7</td>\n",
       "      <td>2</td>\n",
       "      <td>9</td>\n",
       "      <td>...</td>\n",
       "      <td>Frequent customer</td>\n",
       "      <td>Marilyn</td>\n",
       "      <td>Baker</td>\n",
       "      <td>Female</td>\n",
       "      <td>Florida</td>\n",
       "      <td>67</td>\n",
       "      <td>7/16/2017</td>\n",
       "      <td>3</td>\n",
       "      <td>married</td>\n",
       "      <td>149199</td>\n",
       "    </tr>\n",
       "    <tr>\n",
       "      <th>27078</th>\n",
       "      <td>21553</td>\n",
       "      <td>Lowfat 2% Milkfat Cottage Cheese</td>\n",
       "      <td>108</td>\n",
       "      <td>16</td>\n",
       "      <td>14900.0</td>\n",
       "      <td>518829</td>\n",
       "      <td>54136</td>\n",
       "      <td>22</td>\n",
       "      <td>1</td>\n",
       "      <td>9</td>\n",
       "      <td>...</td>\n",
       "      <td>Regular customer</td>\n",
       "      <td>Benjamin</td>\n",
       "      <td>Parsons</td>\n",
       "      <td>Male</td>\n",
       "      <td>New Jersey</td>\n",
       "      <td>40</td>\n",
       "      <td>1/28/2020</td>\n",
       "      <td>0</td>\n",
       "      <td>single</td>\n",
       "      <td>160524</td>\n",
       "    </tr>\n",
       "    <tr>\n",
       "      <th>...</th>\n",
       "      <td>...</td>\n",
       "      <td>...</td>\n",
       "      <td>...</td>\n",
       "      <td>...</td>\n",
       "      <td>...</td>\n",
       "      <td>...</td>\n",
       "      <td>...</td>\n",
       "      <td>...</td>\n",
       "      <td>...</td>\n",
       "      <td>...</td>\n",
       "      <td>...</td>\n",
       "      <td>...</td>\n",
       "      <td>...</td>\n",
       "      <td>...</td>\n",
       "      <td>...</td>\n",
       "      <td>...</td>\n",
       "      <td>...</td>\n",
       "      <td>...</td>\n",
       "      <td>...</td>\n",
       "      <td>...</td>\n",
       "      <td>...</td>\n",
       "    </tr>\n",
       "    <tr>\n",
       "      <th>30331638</th>\n",
       "      <td>21553</td>\n",
       "      <td>Lowfat 2% Milkfat Cottage Cheese</td>\n",
       "      <td>108</td>\n",
       "      <td>16</td>\n",
       "      <td>14900.0</td>\n",
       "      <td>285306</td>\n",
       "      <td>136909</td>\n",
       "      <td>4</td>\n",
       "      <td>1</td>\n",
       "      <td>17</td>\n",
       "      <td>...</td>\n",
       "      <td>Frequent customer</td>\n",
       "      <td>Deborah</td>\n",
       "      <td>Dillon</td>\n",
       "      <td>Female</td>\n",
       "      <td>New Jersey</td>\n",
       "      <td>30</td>\n",
       "      <td>5/14/2017</td>\n",
       "      <td>2</td>\n",
       "      <td>married</td>\n",
       "      <td>161606</td>\n",
       "    </tr>\n",
       "    <tr>\n",
       "      <th>30331639</th>\n",
       "      <td>21553</td>\n",
       "      <td>Lowfat 2% Milkfat Cottage Cheese</td>\n",
       "      <td>108</td>\n",
       "      <td>16</td>\n",
       "      <td>14900.0</td>\n",
       "      <td>2744314</td>\n",
       "      <td>136909</td>\n",
       "      <td>13</td>\n",
       "      <td>6</td>\n",
       "      <td>12</td>\n",
       "      <td>...</td>\n",
       "      <td>Frequent customer</td>\n",
       "      <td>Deborah</td>\n",
       "      <td>Dillon</td>\n",
       "      <td>Female</td>\n",
       "      <td>New Jersey</td>\n",
       "      <td>30</td>\n",
       "      <td>5/14/2017</td>\n",
       "      <td>2</td>\n",
       "      <td>married</td>\n",
       "      <td>161606</td>\n",
       "    </tr>\n",
       "    <tr>\n",
       "      <th>30346298</th>\n",
       "      <td>33664</td>\n",
       "      <td>2 % Reduced Fat  Milk</td>\n",
       "      <td>84</td>\n",
       "      <td>16</td>\n",
       "      <td>99999.0</td>\n",
       "      <td>2235868</td>\n",
       "      <td>35869</td>\n",
       "      <td>4</td>\n",
       "      <td>0</td>\n",
       "      <td>21</td>\n",
       "      <td>...</td>\n",
       "      <td>Non-frequent customer</td>\n",
       "      <td>Theresa</td>\n",
       "      <td>Stein</td>\n",
       "      <td>Female</td>\n",
       "      <td>Iowa</td>\n",
       "      <td>32</td>\n",
       "      <td>2/16/2017</td>\n",
       "      <td>1</td>\n",
       "      <td>married</td>\n",
       "      <td>105422</td>\n",
       "    </tr>\n",
       "    <tr>\n",
       "      <th>30346332</th>\n",
       "      <td>21553</td>\n",
       "      <td>Lowfat 2% Milkfat Cottage Cheese</td>\n",
       "      <td>108</td>\n",
       "      <td>16</td>\n",
       "      <td>14900.0</td>\n",
       "      <td>2716179</td>\n",
       "      <td>2700</td>\n",
       "      <td>7</td>\n",
       "      <td>2</td>\n",
       "      <td>7</td>\n",
       "      <td>...</td>\n",
       "      <td>Frequent customer</td>\n",
       "      <td>Charles</td>\n",
       "      <td>Crosby</td>\n",
       "      <td>Male</td>\n",
       "      <td>Washington</td>\n",
       "      <td>67</td>\n",
       "      <td>4/19/2019</td>\n",
       "      <td>0</td>\n",
       "      <td>divorced/widowed</td>\n",
       "      <td>225873</td>\n",
       "    </tr>\n",
       "    <tr>\n",
       "      <th>30346349</th>\n",
       "      <td>21553</td>\n",
       "      <td>Lowfat 2% Milkfat Cottage Cheese</td>\n",
       "      <td>108</td>\n",
       "      <td>16</td>\n",
       "      <td>14900.0</td>\n",
       "      <td>1600098</td>\n",
       "      <td>158398</td>\n",
       "      <td>4</td>\n",
       "      <td>6</td>\n",
       "      <td>11</td>\n",
       "      <td>...</td>\n",
       "      <td>Non-frequent customer</td>\n",
       "      <td>Marie</td>\n",
       "      <td>Morrow</td>\n",
       "      <td>Female</td>\n",
       "      <td>Tennessee</td>\n",
       "      <td>42</td>\n",
       "      <td>8/23/2018</td>\n",
       "      <td>3</td>\n",
       "      <td>married</td>\n",
       "      <td>244936</td>\n",
       "    </tr>\n",
       "  </tbody>\n",
       "</table>\n",
       "<p>4776 rows × 32 columns</p>\n",
       "</div>"
      ],
      "text/plain": [
       "          product_id                      product_name  aisle_id  \\\n",
       "21681          33664             2 % Reduced Fat  Milk        84   \n",
       "21682          33664             2 % Reduced Fat  Milk        84   \n",
       "21683          33664             2 % Reduced Fat  Milk        84   \n",
       "21684          33664             2 % Reduced Fat  Milk        84   \n",
       "27078          21553  Lowfat 2% Milkfat Cottage Cheese       108   \n",
       "...              ...                               ...       ...   \n",
       "30331638       21553  Lowfat 2% Milkfat Cottage Cheese       108   \n",
       "30331639       21553  Lowfat 2% Milkfat Cottage Cheese       108   \n",
       "30346298       33664             2 % Reduced Fat  Milk        84   \n",
       "30346332       21553  Lowfat 2% Milkfat Cottage Cheese       108   \n",
       "30346349       21553  Lowfat 2% Milkfat Cottage Cheese       108   \n",
       "\n",
       "          department_id   prices  order_id  user_id  order_number  order_dow  \\\n",
       "21681                16  99999.0   1489110    43360             3          1   \n",
       "21682                16  99999.0   2322035    43360             4          1   \n",
       "21683                16  99999.0    420339    43360             5          1   \n",
       "21684                16  99999.0   2912515    43360             7          2   \n",
       "27078                16  14900.0    518829    54136            22          1   \n",
       "...                 ...      ...       ...      ...           ...        ...   \n",
       "30331638             16  14900.0    285306   136909             4          1   \n",
       "30331639             16  14900.0   2744314   136909            13          6   \n",
       "30346298             16  99999.0   2235868    35869             4          0   \n",
       "30346332             16  14900.0   2716179     2700             7          2   \n",
       "30346349             16  14900.0   1600098   158398             4          6   \n",
       "\n",
       "          order_hour_of_day  ...         frequency_flag  first_name  surname  \\\n",
       "21681                    10  ...      Frequent customer     Marilyn    Baker   \n",
       "21682                    10  ...      Frequent customer     Marilyn    Baker   \n",
       "21683                    10  ...      Frequent customer     Marilyn    Baker   \n",
       "21684                     9  ...      Frequent customer     Marilyn    Baker   \n",
       "27078                     9  ...       Regular customer    Benjamin  Parsons   \n",
       "...                     ...  ...                    ...         ...      ...   \n",
       "30331638                 17  ...      Frequent customer     Deborah   Dillon   \n",
       "30331639                 12  ...      Frequent customer     Deborah   Dillon   \n",
       "30346298                 21  ...  Non-frequent customer     Theresa    Stein   \n",
       "30346332                  7  ...      Frequent customer     Charles   Crosby   \n",
       "30346349                 11  ...  Non-frequent customer       Marie   Morrow   \n",
       "\n",
       "          gender       state age date_joined  n_dependants     family_status  \\\n",
       "21681     Female     Florida  67   7/16/2017             3           married   \n",
       "21682     Female     Florida  67   7/16/2017             3           married   \n",
       "21683     Female     Florida  67   7/16/2017             3           married   \n",
       "21684     Female     Florida  67   7/16/2017             3           married   \n",
       "27078       Male  New Jersey  40   1/28/2020             0            single   \n",
       "...          ...         ...  ..         ...           ...               ...   \n",
       "30331638  Female  New Jersey  30   5/14/2017             2           married   \n",
       "30331639  Female  New Jersey  30   5/14/2017             2           married   \n",
       "30346298  Female        Iowa  32   2/16/2017             1           married   \n",
       "30346332    Male  Washington  67   4/19/2019             0  divorced/widowed   \n",
       "30346349  Female   Tennessee  42   8/23/2018             3           married   \n",
       "\n",
       "          income  \n",
       "21681     149199  \n",
       "21682     149199  \n",
       "21683     149199  \n",
       "21684     149199  \n",
       "27078     160524  \n",
       "...          ...  \n",
       "30331638  161606  \n",
       "30331639  161606  \n",
       "30346298  105422  \n",
       "30346332  225873  \n",
       "30346349  244936  \n",
       "\n",
       "[4776 rows x 32 columns]"
      ]
     },
     "execution_count": 9,
     "metadata": {},
     "output_type": "execute_result"
    }
   ],
   "source": [
    "# Identifying prices values greater than 100\n",
    "\n",
    "df_ords_prods_cust.loc[df_ords_prods_cust['prices'] > 100]"
   ]
  },
  {
   "cell_type": "code",
   "execution_count": 10,
   "id": "d3791f13",
   "metadata": {},
   "outputs": [],
   "source": [
    "# Assigning missing values to 4776 rows which the prices are greater than 100 \n",
    "\n",
    "df_ords_prods_cust.loc[df_ords_prods_cust['prices'] > 100, 'prices'] = np.nan\n"
   ]
  },
  {
   "cell_type": "code",
   "execution_count": 11,
   "id": "bbfb4ea7",
   "metadata": {},
   "outputs": [
    {
     "data": {
      "text/plain": [
       "25.0"
      ]
     },
     "execution_count": 11,
     "metadata": {},
     "output_type": "execute_result"
    }
   ],
   "source": [
    "# Confirming the \"new\" maximum value for prices in the dataset \n",
    "\n",
    "df_ords_prods_cust['prices'].max()"
   ]
  },
  {
   "cell_type": "markdown",
   "id": "1476eff9",
   "metadata": {},
   "source": [
    "### 2. Create a bar chart, histogram, scatterplot and a line chart"
   ]
  },
  {
   "cell_type": "markdown",
   "id": "bef74112",
   "metadata": {},
   "source": [
    "#### If you haven’t done so already, follow the instructions in the Exercise to create a bar chart, a histogram, a scatterplot, and a line chart, using a sample subset for the line chart.\n"
   ]
  },
  {
   "cell_type": "code",
   "execution_count": 12,
   "id": "502d6746",
   "metadata": {},
   "outputs": [
    {
     "data": {
      "image/png": "[encoded data removed]",
      "text/plain": [
       "<Figure size 432x288 with 1 Axes>"
      ]
     },
     "metadata": {
      "needs_background": "light"
     },
     "output_type": "display_data"
    }
   ],
   "source": [
    "# Creating a bar chart for \"prices\" in the df_ords_prods_cust dataset\n",
    "\n",
    "hist = df_ords_prods_cust['prices'].plot.hist(bins = 25)"
   ]
  },
  {
   "cell_type": "code",
   "execution_count": 13,
   "id": "19e9173a",
   "metadata": {},
   "outputs": [],
   "source": [
    "# Exporting the bar chart - prices frequency \n",
    "\n",
    "hist.figure.savefig(os.path.join(path, '04 Analysis','Visualizations', 'hist1_prices.png'))\n"
   ]
  },
  {
   "cell_type": "code",
   "execution_count": 14,
   "id": "ba3d65b6",
   "metadata": {},
   "outputs": [
    {
     "data": {
      "text/plain": [
       "<AxesSubplot:ylabel='Frequency'>"
      ]
     },
     "execution_count": 14,
     "metadata": {},
     "output_type": "execute_result"
    },
    {
     "data": {
      "image/png": "[encoded data removed]",
      "text/plain": [
       "<Figure size 432x288 with 1 Axes>"
      ]
     },
     "metadata": {
      "needs_background": "light"
     },
     "output_type": "display_data"
    }
   ],
   "source": [
    "# Creating a histogram for \"order days of the week\" in the df_ords_prods_cust dataset (0 = Saturday, 1 Sunday, etc.)\n",
    "\n",
    "df_ords_prods_cust['order_dow'].plot.hist(bins = 7)"
   ]
  },
  {
   "cell_type": "code",
   "execution_count": 15,
   "id": "0b6e50cd",
   "metadata": {},
   "outputs": [
    {
     "data": {
      "image/png": "[encoded data removed]",
      "text/plain": [
       "<Figure size 432x288 with 1 Axes>"
      ]
     },
     "metadata": {
      "needs_background": "light"
     },
     "output_type": "display_data"
    }
   ],
   "source": [
    "# Save the order_dow visualization\n",
    "\n",
    "hist_order_dow =  df_ords_prods_cust['order_dow'].plot.hist(bins = 7)"
   ]
  },
  {
   "cell_type": "code",
   "execution_count": 16,
   "id": "52214ee2",
   "metadata": {},
   "outputs": [],
   "source": [
    "# Exporting the bar chart - prices frequency \n",
    "\n",
    "hist_order_dow.figure.savefig(os.path.join(path, '04 Analysis','Visualizations', 'hist2_order_dow.png'))\n"
   ]
  },
  {
   "cell_type": "code",
   "execution_count": 17,
   "id": "0f5d77d2",
   "metadata": {},
   "outputs": [
    {
     "data": {
      "text/plain": [
       "<AxesSubplot:>"
      ]
     },
     "execution_count": 17,
     "metadata": {},
     "output_type": "execute_result"
    },
    {
     "data": {
      "image/png": "[encoded data removed]",
      "text/plain": [
       "<Figure size 432x288 with 1 Axes>"
      ]
     },
     "metadata": {
      "needs_background": "light"
     },
     "output_type": "display_data"
    }
   ],
   "source": [
    "df_ords_prods_cust['order_dow'].value_counts().sort_index().plot.bar(color =['purple', 'red', 'pink', 'orange', 'yellow', 'green', 'blue' ])\n"
   ]
  },
  {
   "cell_type": "code",
   "execution_count": 18,
   "id": "c22f9d87",
   "metadata": {},
   "outputs": [
    {
     "data": {
      "image/png": "[encoded data removed]",
      "text/plain": [
       "<Figure size 432x288 with 1 Axes>"
      ]
     },
     "metadata": {
      "needs_background": "light"
     },
     "output_type": "display_data"
    }
   ],
   "source": [
    "# Saving the bar chart for df_ords_prods_cust\n",
    "\n",
    "bar = df_ords_prods_cust['order_dow'].value_counts().sort_index().plot.bar(color =['purple', 'red', 'pink', 'orange', 'yellow', 'green', 'blue' ])\n"
   ]
  },
  {
   "cell_type": "code",
   "execution_count": 19,
   "id": "040a45d6",
   "metadata": {},
   "outputs": [],
   "source": [
    "# Exporting the bar chart for df_ords_prods_cust\n",
    "\n",
    "bar.figure.savefig(os.path.join(path, '04 Analysis','Visualizations', 'bar1_orders_dow.png'))\n"
   ]
  },
  {
   "cell_type": "code",
   "execution_count": 20,
   "id": "a4529c26",
   "metadata": {},
   "outputs": [
    {
     "data": {
      "text/plain": [
       "<AxesSubplot:xlabel='spenders_flag', ylabel='income'>"
      ]
     },
     "execution_count": 20,
     "metadata": {},
     "output_type": "execute_result"
    },
    {
     "data": {
      "image/png": "[encoded data removed]",
      "text/plain": [
       "<Figure size 432x288 with 1 Axes>"
      ]
     },
     "metadata": {
      "needs_background": "light"
     },
     "output_type": "display_data"
    }
   ],
   "source": [
    "# Creating a scatterplot for df_ords_prods_cust\n",
    "\n",
    "sns.scatterplot(x = 'spenders_flag', y = 'income',data = df_ords_prods_cust)\n"
   ]
  },
  {
   "cell_type": "code",
   "execution_count": 21,
   "id": "da5d8a74",
   "metadata": {},
   "outputs": [],
   "source": [
    "# Defining a subset of the entire dataset for the line chart\n",
    "# Creating a subset of data with \"prices\" <= 15 for the line chart because here are the most of the occurencies.\n",
    "\n",
    "np.random.seed(4)\n",
    "dev = np.random.rand(len(df_ords_prods_cust)) <= 0.7"
   ]
  },
  {
   "cell_type": "code",
   "execution_count": 22,
   "id": "3be20585",
   "metadata": {},
   "outputs": [
    {
     "data": {
      "text/plain": [
       "array([False,  True, False, ...,  True,  True,  True])"
      ]
     },
     "execution_count": 22,
     "metadata": {},
     "output_type": "execute_result"
    }
   ],
   "source": [
    "dev"
   ]
  },
  {
   "cell_type": "code",
   "execution_count": 23,
   "id": "68b9fb6b",
   "metadata": {},
   "outputs": [],
   "source": [
    "# Splitting the dataframe into 2 samples - \"big\" and \"small\"\n",
    "# Store 70% of the sample in the dataframe \"big\"\n",
    "\n",
    "big = df_ords_prods_cust[dev]"
   ]
  },
  {
   "cell_type": "code",
   "execution_count": 24,
   "id": "2ae2a993",
   "metadata": {},
   "outputs": [],
   "source": [
    "# Store 30% of the sample in the dataframe \"small\"\n",
    "\n",
    "small = df_ords_prods_cust[~dev]"
   ]
  },
  {
   "cell_type": "code",
   "execution_count": 25,
   "id": "fe2ced1a",
   "metadata": {},
   "outputs": [
    {
     "data": {
      "text/plain": [
       "30356128"
      ]
     },
     "execution_count": 25,
     "metadata": {},
     "output_type": "execute_result"
    }
   ],
   "source": [
    "len(df_ords_prods_cust)"
   ]
  },
  {
   "cell_type": "code",
   "execution_count": 26,
   "id": "cee4480e",
   "metadata": {},
   "outputs": [
    {
     "data": {
      "text/plain": [
       "30356128"
      ]
     },
     "execution_count": 26,
     "metadata": {},
     "output_type": "execute_result"
    }
   ],
   "source": [
    "len(big) + len(small)"
   ]
  },
  {
   "cell_type": "code",
   "execution_count": 27,
   "id": "5f39b4a7",
   "metadata": {},
   "outputs": [],
   "source": [
    "# Reducing the samples to only those coluns necessary for the \"order_dow\" and \"prices\" chart\n",
    "\n",
    "df_ords_prods_cust2 = small[['order_dow','prices']]\n"
   ]
  },
  {
   "cell_type": "code",
   "execution_count": 28,
   "id": "cc75276b",
   "metadata": {},
   "outputs": [
    {
     "data": {
      "image/png": "[encoded data removed]",
      "text/plain": [
       "<Figure size 432x288 with 1 Axes>"
      ]
     },
     "metadata": {
      "needs_background": "light"
     },
     "output_type": "display_data"
    }
   ],
   "source": [
    "# Creating a line chart for a subset of the df_ords_prods_cust data\n",
    "\n",
    "line1 = sns.lineplot(data = df_ords_prods_cust2, x = 'order_dow',y = 'prices')\n"
   ]
  },
  {
   "cell_type": "code",
   "execution_count": 29,
   "id": "3d843c18",
   "metadata": {},
   "outputs": [],
   "source": [
    "# Exporting the line chart visualization\n",
    "\n",
    "line1.figure.savefig(os.path.join(path, '04 Analysis','Visualizations', 'line1_orders_dow_prices.png'))\n"
   ]
  },
  {
   "cell_type": "markdown",
   "id": "23bd969b",
   "metadata": {},
   "source": [
    "### 3. Create a histogram of the \"order_hour_of_day\" column"
   ]
  },
  {
   "cell_type": "markdown",
   "id": "5e55f3e6",
   "metadata": {},
   "source": [
    "#### You need to provide the Instacart senior stakeholders with descriptive findings about sales. Create a histogram of the “order_hour_of_day” column.\n",
    "#### In a markdown cell beneath your histogram, describe what the histogram demonstrates."
   ]
  },
  {
   "cell_type": "code",
   "execution_count": 30,
   "id": "e0cfc6df",
   "metadata": {},
   "outputs": [
    {
     "data": {
      "text/plain": [
       "<AxesSubplot:ylabel='Frequency'>"
      ]
     },
     "execution_count": 30,
     "metadata": {},
     "output_type": "execute_result"
    },
    {
     "data": {
      "image/png": "[encoded data removed]",
      "text/plain": [
       "<Figure size 432x288 with 1 Axes>"
      ]
     },
     "metadata": {
      "needs_background": "light"
     },
     "output_type": "display_data"
    }
   ],
   "source": [
    "# Creating a histogram of the “order_hour_of_day” column\n",
    "\n",
    "df_ords_prods_cust['order_hour_of_day'].plot.hist(bins = 24)"
   ]
  },
  {
   "cell_type": "code",
   "execution_count": 31,
   "id": "1afbe199",
   "metadata": {},
   "outputs": [],
   "source": [
    "# The histogram chart shows that from approximatelly 8am until 4pm are the peak hours where there are more orders."
   ]
  },
  {
   "cell_type": "code",
   "execution_count": 32,
   "id": "21dbea9c",
   "metadata": {},
   "outputs": [
    {
     "data": {
      "image/png": "[encoded data removed]",
      "text/plain": [
       "<Figure size 432x288 with 1 Axes>"
      ]
     },
     "metadata": {
      "needs_background": "light"
     },
     "output_type": "display_data"
    }
   ],
   "source": [
    "# Save the order_dow visualization\n",
    "\n",
    "hist_order_hour_of_day3 =  df_ords_prods_cust['order_hour_of_day'].plot.hist(bins = 24)"
   ]
  },
  {
   "cell_type": "code",
   "execution_count": 33,
   "id": "df317cdc",
   "metadata": {},
   "outputs": [],
   "source": [
    "# Exporting the line chart visualization\n",
    "\n",
    "hist_order_hour_of_day3.figure.savefig(os.path.join(path, '04 Analysis','Visualizations', 'hist3_order_hour_of_day.png'))\n"
   ]
  },
  {
   "cell_type": "markdown",
   "id": "47932dc8",
   "metadata": {},
   "source": [
    "### 4. Create a bar chart from the \"loyalty_flag\" column to present the distribution of orders among customers"
   ]
  },
  {
   "cell_type": "markdown",
   "id": "bb6acf5d",
   "metadata": {},
   "source": [
    "#### The marketing team is curious about the distribution of orders among customers in terms of loyalty. Create a bar chart from the “loyalty_flag” column.\n"
   ]
  },
  {
   "cell_type": "code",
   "execution_count": 34,
   "id": "e53a20e3",
   "metadata": {},
   "outputs": [
    {
     "data": {
      "text/plain": [
       "<AxesSubplot:>"
      ]
     },
     "execution_count": 34,
     "metadata": {},
     "output_type": "execute_result"
    },
    {
     "data": {
      "image/png": "[encoded data removed]",
      "text/plain": [
       "<Figure size 432x288 with 1 Axes>"
      ]
     },
     "metadata": {
      "needs_background": "light"
     },
     "output_type": "display_data"
    }
   ],
   "source": [
    "# Creating a bar chart from the “loyalty_flag” column.\n",
    "\n",
    "df_ords_prods_cust['loyalty_flag'].value_counts().plot.bar()\n"
   ]
  },
  {
   "cell_type": "code",
   "execution_count": 35,
   "id": "228c5bf3",
   "metadata": {},
   "outputs": [
    {
     "data": {
      "text/plain": [
       "Regular customer    15095208\n",
       "Loyal customer      10104845\n",
       "New customer         5156075\n",
       "Name: loyalty_flag, dtype: int64"
      ]
     },
     "execution_count": 35,
     "metadata": {},
     "output_type": "execute_result"
    }
   ],
   "source": [
    "df_ords_prods_cust['loyalty_flag'].value_counts(dropna = False)"
   ]
  },
  {
   "cell_type": "code",
   "execution_count": 52,
   "id": "7ed85359",
   "metadata": {},
   "outputs": [
    {
     "data": {
      "image/png": "[encoded data removed]",
      "text/plain": [
       "<Figure size 432x288 with 1 Axes>"
      ]
     },
     "metadata": {},
     "output_type": "display_data"
    }
   ],
   "source": [
    "pie2_loyalty = df_ords_prods_cust['loyalty_flag'].value_counts().plot.pie(autopct='%1.1f%%')\n"
   ]
  },
  {
   "cell_type": "code",
   "execution_count": 37,
   "id": "b566b287",
   "metadata": {},
   "outputs": [],
   "source": [
    "# Exporting the line chart visualization\n",
    "\n",
    "bar2_loyalty.figure.savefig(os.path.join(path, '04 Analysis','Visualizations', 'bar2_loyalty.png'))\n"
   ]
  },
  {
   "cell_type": "markdown",
   "id": "f53c79e7",
   "metadata": {},
   "source": [
    "### 5. Check whether there is a difference in expenditure depending on the hour of the day (\"prices\" column)."
   ]
  },
  {
   "cell_type": "markdown",
   "id": "9f11c825",
   "metadata": {},
   "source": [
    "#### Check whether there’s a difference in expenditure (the “prices” column) depending on the hour of the day. (Hint: To check this, you need to use an accurate sample for your line chart!)\n"
   ]
  },
  {
   "cell_type": "code",
   "execution_count": 38,
   "id": "34a41c69",
   "metadata": {},
   "outputs": [
    {
     "data": {
      "text/html": [
       "<div>\n",
       "<style scoped>\n",
       "    .dataframe tbody tr th:only-of-type {\n",
       "        vertical-align: middle;\n",
       "    }\n",
       "\n",
       "    .dataframe tbody tr th {\n",
       "        vertical-align: top;\n",
       "    }\n",
       "\n",
       "    .dataframe thead th {\n",
       "        text-align: right;\n",
       "    }\n",
       "</style>\n",
       "<table border=\"1\" class=\"dataframe\">\n",
       "  <thead>\n",
       "    <tr style=\"text-align: right;\">\n",
       "      <th></th>\n",
       "      <th>product_id</th>\n",
       "      <th>product_name</th>\n",
       "      <th>aisle_id</th>\n",
       "      <th>department_id</th>\n",
       "      <th>prices</th>\n",
       "      <th>order_id</th>\n",
       "      <th>user_id</th>\n",
       "      <th>order_number</th>\n",
       "      <th>order_dow</th>\n",
       "      <th>order_hour_of_day</th>\n",
       "      <th>...</th>\n",
       "      <th>frequency_flag</th>\n",
       "      <th>first_name</th>\n",
       "      <th>surname</th>\n",
       "      <th>gender</th>\n",
       "      <th>state</th>\n",
       "      <th>age</th>\n",
       "      <th>date_joined</th>\n",
       "      <th>n_dependants</th>\n",
       "      <th>family_status</th>\n",
       "      <th>income</th>\n",
       "    </tr>\n",
       "  </thead>\n",
       "  <tbody>\n",
       "    <tr>\n",
       "      <th>0</th>\n",
       "      <td>1</td>\n",
       "      <td>Chocolate Sandwich Cookies</td>\n",
       "      <td>61</td>\n",
       "      <td>19</td>\n",
       "      <td>5.8</td>\n",
       "      <td>3139998</td>\n",
       "      <td>138</td>\n",
       "      <td>28</td>\n",
       "      <td>6</td>\n",
       "      <td>11</td>\n",
       "      <td>...</td>\n",
       "      <td>Frequent customer</td>\n",
       "      <td>Charles</td>\n",
       "      <td>Cox</td>\n",
       "      <td>Male</td>\n",
       "      <td>Minnesota</td>\n",
       "      <td>81</td>\n",
       "      <td>8/1/2019</td>\n",
       "      <td>1</td>\n",
       "      <td>married</td>\n",
       "      <td>49620</td>\n",
       "    </tr>\n",
       "    <tr>\n",
       "      <th>1</th>\n",
       "      <td>1</td>\n",
       "      <td>Chocolate Sandwich Cookies</td>\n",
       "      <td>61</td>\n",
       "      <td>19</td>\n",
       "      <td>5.8</td>\n",
       "      <td>1977647</td>\n",
       "      <td>138</td>\n",
       "      <td>30</td>\n",
       "      <td>6</td>\n",
       "      <td>17</td>\n",
       "      <td>...</td>\n",
       "      <td>Frequent customer</td>\n",
       "      <td>Charles</td>\n",
       "      <td>Cox</td>\n",
       "      <td>Male</td>\n",
       "      <td>Minnesota</td>\n",
       "      <td>81</td>\n",
       "      <td>8/1/2019</td>\n",
       "      <td>1</td>\n",
       "      <td>married</td>\n",
       "      <td>49620</td>\n",
       "    </tr>\n",
       "    <tr>\n",
       "      <th>2</th>\n",
       "      <td>907</td>\n",
       "      <td>Premium Sliced Bacon</td>\n",
       "      <td>106</td>\n",
       "      <td>12</td>\n",
       "      <td>20.0</td>\n",
       "      <td>2254091</td>\n",
       "      <td>138</td>\n",
       "      <td>10</td>\n",
       "      <td>5</td>\n",
       "      <td>14</td>\n",
       "      <td>...</td>\n",
       "      <td>Frequent customer</td>\n",
       "      <td>Charles</td>\n",
       "      <td>Cox</td>\n",
       "      <td>Male</td>\n",
       "      <td>Minnesota</td>\n",
       "      <td>81</td>\n",
       "      <td>8/1/2019</td>\n",
       "      <td>1</td>\n",
       "      <td>married</td>\n",
       "      <td>49620</td>\n",
       "    </tr>\n",
       "    <tr>\n",
       "      <th>3</th>\n",
       "      <td>1000</td>\n",
       "      <td>Apricots</td>\n",
       "      <td>18</td>\n",
       "      <td>10</td>\n",
       "      <td>12.9</td>\n",
       "      <td>505689</td>\n",
       "      <td>138</td>\n",
       "      <td>9</td>\n",
       "      <td>6</td>\n",
       "      <td>12</td>\n",
       "      <td>...</td>\n",
       "      <td>Frequent customer</td>\n",
       "      <td>Charles</td>\n",
       "      <td>Cox</td>\n",
       "      <td>Male</td>\n",
       "      <td>Minnesota</td>\n",
       "      <td>81</td>\n",
       "      <td>8/1/2019</td>\n",
       "      <td>1</td>\n",
       "      <td>married</td>\n",
       "      <td>49620</td>\n",
       "    </tr>\n",
       "    <tr>\n",
       "      <th>4</th>\n",
       "      <td>3265</td>\n",
       "      <td>Mini Seedless Watermelon Pack</td>\n",
       "      <td>32</td>\n",
       "      <td>4</td>\n",
       "      <td>1.7</td>\n",
       "      <td>960220</td>\n",
       "      <td>138</td>\n",
       "      <td>17</td>\n",
       "      <td>5</td>\n",
       "      <td>14</td>\n",
       "      <td>...</td>\n",
       "      <td>Frequent customer</td>\n",
       "      <td>Charles</td>\n",
       "      <td>Cox</td>\n",
       "      <td>Male</td>\n",
       "      <td>Minnesota</td>\n",
       "      <td>81</td>\n",
       "      <td>8/1/2019</td>\n",
       "      <td>1</td>\n",
       "      <td>married</td>\n",
       "      <td>49620</td>\n",
       "    </tr>\n",
       "  </tbody>\n",
       "</table>\n",
       "<p>5 rows × 32 columns</p>\n",
       "</div>"
      ],
      "text/plain": [
       "   product_id                   product_name  aisle_id  department_id  prices  \\\n",
       "0           1     Chocolate Sandwich Cookies        61             19     5.8   \n",
       "1           1     Chocolate Sandwich Cookies        61             19     5.8   \n",
       "2         907           Premium Sliced Bacon       106             12    20.0   \n",
       "3        1000                       Apricots        18             10    12.9   \n",
       "4        3265  Mini Seedless Watermelon Pack        32              4     1.7   \n",
       "\n",
       "   order_id  user_id  order_number  order_dow  order_hour_of_day  ...  \\\n",
       "0   3139998      138            28          6                 11  ...   \n",
       "1   1977647      138            30          6                 17  ...   \n",
       "2   2254091      138            10          5                 14  ...   \n",
       "3    505689      138             9          6                 12  ...   \n",
       "4    960220      138            17          5                 14  ...   \n",
       "\n",
       "      frequency_flag  first_name  surname gender      state age date_joined  \\\n",
       "0  Frequent customer     Charles      Cox   Male  Minnesota  81    8/1/2019   \n",
       "1  Frequent customer     Charles      Cox   Male  Minnesota  81    8/1/2019   \n",
       "2  Frequent customer     Charles      Cox   Male  Minnesota  81    8/1/2019   \n",
       "3  Frequent customer     Charles      Cox   Male  Minnesota  81    8/1/2019   \n",
       "4  Frequent customer     Charles      Cox   Male  Minnesota  81    8/1/2019   \n",
       "\n",
       "   n_dependants family_status  income  \n",
       "0             1       married   49620  \n",
       "1             1       married   49620  \n",
       "2             1       married   49620  \n",
       "3             1       married   49620  \n",
       "4             1       married   49620  \n",
       "\n",
       "[5 rows x 32 columns]"
      ]
     },
     "execution_count": 38,
     "metadata": {},
     "output_type": "execute_result"
    }
   ],
   "source": [
    "df_ords_prods_cust.head()"
   ]
  },
  {
   "cell_type": "code",
   "execution_count": 39,
   "id": "f4bcfb96",
   "metadata": {},
   "outputs": [],
   "source": [
    "# Reducing the samples to only those coluns necessary for the \"order_hour_of_day\" and \"prices\" chart\n",
    "\n",
    "df_ords_prods_cust3 = small[['order_hour_of_day','prices']]\n"
   ]
  },
  {
   "cell_type": "code",
   "execution_count": 40,
   "id": "4025d703",
   "metadata": {},
   "outputs": [
    {
     "data": {
      "image/png": "[encoded data removed]",
      "text/plain": [
       "<Figure size 432x288 with 1 Axes>"
      ]
     },
     "metadata": {
      "needs_background": "light"
     },
     "output_type": "display_data"
    }
   ],
   "source": [
    "# Using a sample of the dataset for check expenditure depending on the hour of the day\n",
    "\n",
    "line2 = sns.lineplot(data = df_ords_prods_cust3, x = 'order_hour_of_day',y = 'prices')\n"
   ]
  },
  {
   "cell_type": "code",
   "execution_count": 41,
   "id": "038c9cf6",
   "metadata": {},
   "outputs": [],
   "source": [
    "# Exporting the line chart visualization\n",
    "\n",
    "line2.figure.savefig(os.path.join(path, '04 Analysis','Visualizations', 'line2_order_hour_of_day_prices.png'))\n"
   ]
  },
  {
   "cell_type": "markdown",
   "id": "dac42686",
   "metadata": {},
   "source": [
    "### 6. Conduct exploratory analysis of customer demographics "
   ]
  },
  {
   "cell_type": "markdown",
   "id": "e0114aef",
   "metadata": {},
   "source": [
    "#### Now that you have information about customers, you need to conduct some exploratory analysis of customer demographics to inform the targeted marketing campaigns. First, determine whether there’s a connection between age and family status by creating a line chart exploring the connections between age and number of dependents:\n",
    "#### In a markdown cell beneath your line chart, describe what the line chart shows.\n"
   ]
  },
  {
   "cell_type": "code",
   "execution_count": 42,
   "id": "8c8f1cb8",
   "metadata": {},
   "outputs": [],
   "source": [
    "# Reducing the samples to only those coluns necessary for the \"age\" and \"n_dependants\" chart\n",
    "\n",
    "df_ords_prods_cust4 = small[['age','n_dependants']]"
   ]
  },
  {
   "cell_type": "code",
   "execution_count": 43,
   "id": "5a30cf7c",
   "metadata": {},
   "outputs": [
    {
     "data": {
      "image/png": "[encoded data removed]",
      "text/plain": [
       "<Figure size 432x288 with 1 Axes>"
      ]
     },
     "metadata": {
      "needs_background": "light"
     },
     "output_type": "display_data"
    }
   ],
   "source": [
    "# Creating a line chart to analyse a connection between age and family status using age and nº of dependents data.\n",
    "\n",
    "line3 = sns.lineplot(data = df_ords_prods_cust4, x = 'age',y = 'n_dependants')\n"
   ]
  },
  {
   "cell_type": "code",
   "execution_count": 44,
   "id": "ec985d33",
   "metadata": {},
   "outputs": [],
   "source": [
    "# 1.5 is the average of dependants. Clients between 60' and 70's have more dependants than youngers."
   ]
  },
  {
   "cell_type": "code",
   "execution_count": 45,
   "id": "cb394d14",
   "metadata": {},
   "outputs": [],
   "source": [
    "# Exporting the line chart visualization\n",
    "\n",
    "line3.figure.savefig(os.path.join(path, '04 Analysis','Visualizations', 'line3_age_n_dependants.png'))\n"
   ]
  },
  {
   "cell_type": "markdown",
   "id": "3841b20d",
   "metadata": {},
   "source": [
    "### 7. Explore whether there is a connection between age and spending power"
   ]
  },
  {
   "cell_type": "markdown",
   "id": "2b50b73e",
   "metadata": {},
   "source": [
    "#### You’ll also need to explore whether there’s a connection between age and spending power. To visualize this relationship, create a scatterplot using the sns.scatterplot() function.\n",
    "#### In a markdown cell beneath your scatterplot, describe what the scatterplot shows."
   ]
  },
  {
   "cell_type": "code",
   "execution_count": 53,
   "id": "fef9b0d6",
   "metadata": {},
   "outputs": [
    {
     "data": {
      "image/png": "[encoded data removed]",
      "text/plain": [
       "<Figure size 432x288 with 1 Axes>"
      ]
     },
     "metadata": {
      "needs_background": "light"
     },
     "output_type": "display_data"
    }
   ],
   "source": [
    "# Creating a scatterplot to visualize the relationship between age and spending power\n",
    "\n",
    "scatterplot1 = sns.scatterplot(x = 'age', y = 'spenders',data = df_ords_prods_cust)\n"
   ]
  },
  {
   "cell_type": "code",
   "execution_count": 47,
   "id": "30e0b3da",
   "metadata": {},
   "outputs": [],
   "source": [
    "# The scatterplot shows that most of the clients are \"Low spenders\" regardless the age. \n",
    "# There is a group of clients between 20 to 30 years olds who spend higher compared with the average spent.\n",
    "# 2 clients between 20 and 30 who are the biggest spending powers.\n",
    "# There are less than 10 clients that are the most spending power who are above of 10000 score as spenders."
   ]
  },
  {
   "cell_type": "code",
   "execution_count": 48,
   "id": "43bce4fb",
   "metadata": {},
   "outputs": [],
   "source": [
    "# Exporting the scatterplot visualization\n",
    "\n",
    "scatterplot1.figure.savefig(os.path.join(path, '04 Analysis','Visualizations', 'scatter1_age_n_dependants.png'))\n"
   ]
  },
  {
   "cell_type": "markdown",
   "id": "42926ff7",
   "metadata": {},
   "source": [
    "### 8, 9, 10. Export the visualizations as \"png\", save it and submit it for review"
   ]
  },
  {
   "cell_type": "code",
   "execution_count": 49,
   "id": "4ce25842",
   "metadata": {},
   "outputs": [],
   "source": [
    "# Visualizations exported as “.png” files in the relevant project folder. See the command below each chart.\n",
    "# Saved the notebook from part 2 of this Exercise’s task.\n",
    "# Submitted the notebooks for both the first and second parts for review.\n",
    "# Dataset Part2 exported."
   ]
  },
  {
   "cell_type": "code",
   "execution_count": 50,
   "id": "d88e41e7",
   "metadata": {},
   "outputs": [],
   "source": [
    "# Exporting the combined dataset - df_ords_prods_cust\n",
    "\n",
    "df_ords_prods_cust.to_pickle(os.path.join(path, '02 Data','Prepared Data', 'ords_prods_cust_merged_4.9_P2.pkl'))"
   ]
  },
  {
   "cell_type": "code",
   "execution_count": null,
   "id": "ae4d434a",
   "metadata": {},
   "outputs": [],
   "source": []
  }
 ],
 "metadata": {
  "kernelspec": {
   "display_name": "Python 3",
   "language": "python",
   "name": "python3"
  },
  "language_info": {
   "codemirror_mode": {
    "name": "ipython",
    "version": 3
   },
   "file_extension": ".py",
   "mimetype": "text/x-python",
   "name": "python",
   "nbconvert_exporter": "python",
   "pygments_lexer": "ipython3",
   "version": "3.8.8"
  }
 },
 "nbformat": 4,
 "nbformat_minor": 5
}
